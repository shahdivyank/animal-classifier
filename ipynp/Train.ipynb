{
 "cells": [
  {
   "cell_type": "code",
   "execution_count": 14,
   "id": "dc4975204d1ed00d",
   "metadata": {
    "collapsed": false,
    "ExecuteTime": {
     "end_time": "2024-03-15T02:11:14.529733Z",
     "start_time": "2024-03-15T02:11:14.527278Z"
    }
   },
   "outputs": [
    {
     "name": "stdout",
     "output_type": "stream",
     "text": [
      "2.12.0\n",
      "2.12.0\n"
     ]
    }
   ],
   "source": [
    "import tensorflow as tf\n",
    "from tensorflow import keras\n",
    "\n",
    "print(tf.__version__)\n",
    "print(keras.__version__)"
   ]
  },
  {
   "cell_type": "code",
   "outputs": [],
   "source": [
    "from tensorflow.keras.models import Sequential\n",
    "from tensorflow.keras.layers import Conv2D, MaxPooling2D, GlobalAveragePooling2D, Dense, Dropout, BatchNormalization\n",
    "from tensorflow.keras.preprocessing.image import ImageDataGenerator\n",
    "from tensorflow.keras.callbacks import EarlyStopping, ModelCheckpoint\n",
    "import matplotlib.pyplot as plt"
   ],
   "metadata": {
    "collapsed": false,
    "ExecuteTime": {
     "end_time": "2024-03-15T02:11:14.544978Z",
     "start_time": "2024-03-15T02:11:14.542734Z"
    }
   },
   "id": "60cd87e6d359774d",
   "execution_count": 15
  },
  {
   "cell_type": "code",
   "execution_count": 16,
   "id": "initial_id",
   "metadata": {
    "collapsed": true,
    "jupyter": {
     "outputs_hidden": true
    },
    "ExecuteTime": {
     "end_time": "2024-03-15T02:11:14.737148Z",
     "start_time": "2024-03-15T02:11:14.545968Z"
    }
   },
   "outputs": [
    {
     "name": "stdout",
     "output_type": "stream",
     "text": [
      "Found 5782 images belonging to 6 classes.\n",
      "Found 2473 images belonging to 6 classes.\n",
      "{'Bear': 0, 'Cat': 1, 'Cow': 2, 'Dog': 3, 'Eagle': 4, 'Gorilla': 5}\n"
     ]
    }
   ],
   "source": [
    "# Data Preprocessing and Augmentation\n",
    "train_datagen = ImageDataGenerator(\n",
    "    # Scales each pixel value in the image from a range of 0-255 to 0-1 for normalization\n",
    "    rescale=1./255,\n",
    "    # Split the data into training (70%) and validation (30%)\n",
    "    validation_split=0.3\n",
    ")\n",
    "\n",
    "# Validation Data\n",
    "validation_datagen = ImageDataGenerator(\n",
    "    rescale=1./255, \n",
    "    validation_split=0.3\n",
    ")\n",
    "\n",
    "# Flow training images in batches of 32 using train_datagen generator\n",
    "train_generator = train_datagen.flow_from_directory(\n",
    "    'animal_database/',\n",
    "    target_size=(256, 256),  # All images will be resized to 150x150\n",
    "    batch_size=32,\n",
    "    class_mode='categorical',\n",
    "    subset='training'  # Set as training data\n",
    ")\n",
    "\n",
    "# Flow validation images in batches of 32 using validation_datagen generator\n",
    "validation_generator = validation_datagen.flow_from_directory(\n",
    "    'animal_database/',\n",
    "    target_size=(150, 150),\n",
    "    batch_size=32,\n",
    "    class_mode='categorical',\n",
    "    subset='validation'  # Set as validation data\n",
    ")\n",
    "\n",
    "class_indices = train_generator.class_indices\n",
    "print(class_indices)\n"
   ]
  },
  {
   "cell_type": "code",
   "execution_count": 17,
   "id": "9adc785287d4a841",
   "metadata": {
    "collapsed": false,
    "ExecuteTime": {
     "end_time": "2024-03-15T02:11:14.801240Z",
     "start_time": "2024-03-15T02:11:14.738017Z"
    }
   },
   "outputs": [],
   "source": [
    "# Model Architecture\n",
    "model = Sequential([\n",
    "    # First convolutional block\n",
    "    Conv2D(32, (3, 3), activation='relu', input_shape=(150, 150, 3)),\n",
    "    BatchNormalization(),\n",
    "    MaxPooling2D(2, 2),\n",
    "    Dropout(0.25),\n",
    "\n",
    "    # Second convolutional block\n",
    "    Conv2D(64, (3, 3), activation='relu'),\n",
    "    BatchNormalization(),\n",
    "    Conv2D(64, (3, 3), activation='relu'),\n",
    "    BatchNormalization(),\n",
    "    MaxPooling2D(2, 2),\n",
    "    Dropout(0.25),\n",
    "\n",
    "    # Third convolutional block\n",
    "    Conv2D(128, (3, 3), activation='relu'),\n",
    "    BatchNormalization(),\n",
    "    Conv2D(128, (3, 3), activation='relu'),\n",
    "    BatchNormalization(),\n",
    "    MaxPooling2D(2, 2),\n",
    "    Dropout(0.25),\n",
    "\n",
    "    # Fourth convolutional block\n",
    "    Conv2D(256, (3, 3), activation='relu'),\n",
    "    BatchNormalization(),\n",
    "    Conv2D(256, (3, 3), activation='relu'),\n",
    "    BatchNormalization(),\n",
    "    GlobalAveragePooling2D(),\n",
    "    Dropout(0.5),\n",
    "\n",
    "    # Fully connected layers\n",
    "    Dense(512, activation='relu'),\n",
    "    BatchNormalization(),\n",
    "    Dropout(0.5),\n",
    "    Dense(train_generator.num_classes, activation='softmax')\n",
    "])"
   ]
  },
  {
   "cell_type": "code",
   "execution_count": null,
   "id": "9e0bab30c43ad244",
   "metadata": {
    "collapsed": false,
    "is_executing": true,
    "ExecuteTime": {
     "start_time": "2024-03-15T02:11:14.801977Z"
    }
   },
   "outputs": [
    {
     "name": "stdout",
     "output_type": "stream",
     "text": [
      "Epoch 1/200\n"
     ]
    },
    {
     "name": "stderr",
     "output_type": "stream",
     "text": [
      "2024-03-14 19:11:14.871478: I tensorflow/core/common_runtime/executor.cc:1197] [/device:CPU:0] (DEBUG INFO) Executor start aborting (this does not indicate an error and you can ignore this message): INVALID_ARGUMENT: You must feed a value for placeholder tensor 'Placeholder/_0' with dtype int32\n",
      "\t [[{{node Placeholder/_0}}]]\n"
     ]
    },
    {
     "name": "stdout",
     "output_type": "stream",
     "text": [
      "180/180 [==============================] - ETA: 0s - loss: 1.7161 - accuracy: 0.4603"
     ]
    },
    {
     "name": "stderr",
     "output_type": "stream",
     "text": [
      "2024-03-14 19:14:44.853311: I tensorflow/core/common_runtime/executor.cc:1197] [/device:CPU:0] (DEBUG INFO) Executor start aborting (this does not indicate an error and you can ignore this message): INVALID_ARGUMENT: You must feed a value for placeholder tensor 'Placeholder/_0' with dtype int32\n",
      "\t [[{{node Placeholder/_0}}]]\n"
     ]
    },
    {
     "name": "stdout",
     "output_type": "stream",
     "text": [
      "180/180 [==============================] - 219s 1s/step - loss: 1.7161 - accuracy: 0.4603 - val_loss: 3.8944 - val_accuracy: 0.2013\n",
      "Epoch 2/200\n",
      "180/180 [==============================] - 216s 1s/step - loss: 1.2315 - accuracy: 0.5864 - val_loss: 4.6344 - val_accuracy: 0.2037\n",
      "Epoch 3/200\n",
      "180/180 [==============================] - 213s 1s/step - loss: 0.9600 - accuracy: 0.6741 - val_loss: 1.7547 - val_accuracy: 0.5300\n",
      "Epoch 4/200\n",
      "180/180 [==============================] - 214s 1s/step - loss: 0.8007 - accuracy: 0.7243 - val_loss: 8.5965 - val_accuracy: 0.1843\n",
      "Epoch 5/200\n",
      "180/180 [==============================] - 214s 1s/step - loss: 0.6886 - accuracy: 0.7657 - val_loss: 1.3251 - val_accuracy: 0.6351\n",
      "Epoch 6/200\n",
      "180/180 [==============================] - 209s 1s/step - loss: 0.6218 - accuracy: 0.7889 - val_loss: 1.9115 - val_accuracy: 0.5921\n",
      "Epoch 7/200\n",
      "180/180 [==============================] - 210s 1s/step - loss: 0.5603 - accuracy: 0.8092 - val_loss: 1.7075 - val_accuracy: 0.5584\n",
      "Epoch 8/200\n",
      "180/180 [==============================] - 214s 1s/step - loss: 0.5059 - accuracy: 0.8256 - val_loss: 1.5234 - val_accuracy: 0.5487\n",
      "Epoch 9/200\n",
      "180/180 [==============================] - 215s 1s/step - loss: 0.4908 - accuracy: 0.8308 - val_loss: 2.7695 - val_accuracy: 0.4756\n",
      "Epoch 10/200\n",
      "180/180 [==============================] - 213s 1s/step - loss: 0.4677 - accuracy: 0.8412 - val_loss: 1.7072 - val_accuracy: 0.6477\n",
      "Epoch 11/200\n",
      "180/180 [==============================] - 205s 1s/step - loss: 0.4432 - accuracy: 0.8494 - val_loss: 1.5965 - val_accuracy: 0.6380\n",
      "Epoch 12/200\n",
      "180/180 [==============================] - 205s 1s/step - loss: 0.3964 - accuracy: 0.8675 - val_loss: 1.1230 - val_accuracy: 0.7232\n",
      "Epoch 13/200\n",
      "180/180 [==============================] - 205s 1s/step - loss: 0.3759 - accuracy: 0.8737 - val_loss: 1.9712 - val_accuracy: 0.6234\n",
      "Epoch 14/200\n",
      "180/180 [==============================] - 205s 1s/step - loss: 0.3808 - accuracy: 0.8689 - val_loss: 2.6666 - val_accuracy: 0.5869\n",
      "Epoch 15/200\n",
      "180/180 [==============================] - 205s 1s/step - loss: 0.3392 - accuracy: 0.8859 - val_loss: 2.8632 - val_accuracy: 0.5053\n",
      "Epoch 16/200\n",
      "180/180 [==============================] - 205s 1s/step - loss: 0.3303 - accuracy: 0.8915 - val_loss: 1.5440 - val_accuracy: 0.6404\n",
      "Epoch 17/200\n",
      "180/180 [==============================] - 205s 1s/step - loss: 0.3039 - accuracy: 0.8972 - val_loss: 1.4985 - val_accuracy: 0.5751\n",
      "Epoch 18/200\n",
      "180/180 [==============================] - 205s 1s/step - loss: 0.3099 - accuracy: 0.8957 - val_loss: 1.3785 - val_accuracy: 0.6741\n",
      "Epoch 19/200\n",
      "180/180 [==============================] - 205s 1s/step - loss: 0.2821 - accuracy: 0.9052 - val_loss: 1.6060 - val_accuracy: 0.6619\n",
      "Epoch 20/200\n",
      "180/180 [==============================] - 205s 1s/step - loss: 0.2590 - accuracy: 0.9127 - val_loss: 1.3955 - val_accuracy: 0.6453\n",
      "Epoch 21/200\n",
      "180/180 [==============================] - 205s 1s/step - loss: 0.2450 - accuracy: 0.9158 - val_loss: 1.5235 - val_accuracy: 0.6753\n",
      "Epoch 22/200\n",
      "180/180 [==============================] - 205s 1s/step - loss: 0.2471 - accuracy: 0.9122 - val_loss: 1.8928 - val_accuracy: 0.6498\n",
      "Epoch 23/200\n",
      "180/180 [==============================] - 206s 1s/step - loss: 0.2364 - accuracy: 0.9210 - val_loss: 2.9194 - val_accuracy: 0.5852\n",
      "Epoch 24/200\n",
      "180/180 [==============================] - 205s 1s/step - loss: 0.2198 - accuracy: 0.9247 - val_loss: 2.3905 - val_accuracy: 0.6185\n",
      "Epoch 25/200\n",
      "180/180 [==============================] - 206s 1s/step - loss: 0.2188 - accuracy: 0.9283 - val_loss: 1.7934 - val_accuracy: 0.7098\n",
      "Epoch 26/200\n",
      "180/180 [==============================] - 213s 1s/step - loss: 0.2078 - accuracy: 0.9326 - val_loss: 1.6703 - val_accuracy: 0.6713\n",
      "Epoch 27/200\n",
      "180/180 [==============================] - 212s 1s/step - loss: 0.1950 - accuracy: 0.9369 - val_loss: 2.1475 - val_accuracy: 0.6940\n",
      "Epoch 28/200\n",
      "180/180 [==============================] - 212s 1s/step - loss: 0.1815 - accuracy: 0.9405 - val_loss: 1.7559 - val_accuracy: 0.6790\n",
      "Epoch 29/200\n",
      "180/180 [==============================] - 215s 1s/step - loss: 0.1804 - accuracy: 0.9390 - val_loss: 2.1088 - val_accuracy: 0.6583\n",
      "Epoch 30/200\n",
      "180/180 [==============================] - 210s 1s/step - loss: 0.1723 - accuracy: 0.9416 - val_loss: 1.1691 - val_accuracy: 0.7593\n",
      "Epoch 31/200\n",
      "180/180 [==============================] - 213s 1s/step - loss: 0.1531 - accuracy: 0.9482 - val_loss: 1.2536 - val_accuracy: 0.7451\n",
      "Epoch 32/200\n",
      "180/180 [==============================] - 212s 1s/step - loss: 0.1630 - accuracy: 0.9485 - val_loss: 1.7423 - val_accuracy: 0.6814\n",
      "Epoch 33/200\n",
      "180/180 [==============================] - 210s 1s/step - loss: 0.1532 - accuracy: 0.9480 - val_loss: 1.8472 - val_accuracy: 0.7382\n",
      "Epoch 34/200\n",
      "180/180 [==============================] - 208s 1s/step - loss: 0.1449 - accuracy: 0.9478 - val_loss: 1.1835 - val_accuracy: 0.7528\n",
      "Epoch 35/200\n",
      "180/180 [==============================] - 208s 1s/step - loss: 0.1351 - accuracy: 0.9560 - val_loss: 1.8568 - val_accuracy: 0.6591\n",
      "Epoch 36/200\n",
      "180/180 [==============================] - 208s 1s/step - loss: 0.1325 - accuracy: 0.9537 - val_loss: 2.3250 - val_accuracy: 0.6583\n",
      "Epoch 37/200\n",
      "180/180 [==============================] - 214s 1s/step - loss: 0.1282 - accuracy: 0.9558 - val_loss: 1.6313 - val_accuracy: 0.7192\n",
      "Epoch 38/200\n",
      "180/180 [==============================] - 214s 1s/step - loss: 0.1087 - accuracy: 0.9640 - val_loss: 2.8792 - val_accuracy: 0.6209\n",
      "Epoch 39/200\n",
      "180/180 [==============================] - 212s 1s/step - loss: 0.1347 - accuracy: 0.9517 - val_loss: 3.6370 - val_accuracy: 0.6522\n",
      "Epoch 40/200\n",
      "180/180 [==============================] - 205s 1s/step - loss: 0.1138 - accuracy: 0.9612 - val_loss: 1.9755 - val_accuracy: 0.6761\n",
      "Epoch 41/200\n",
      "180/180 [==============================] - 205s 1s/step - loss: 0.0996 - accuracy: 0.9668 - val_loss: 1.6395 - val_accuracy: 0.7419\n",
      "Epoch 42/200\n",
      "180/180 [==============================] - 205s 1s/step - loss: 0.1074 - accuracy: 0.9638 - val_loss: 1.2998 - val_accuracy: 0.7837\n",
      "Epoch 43/200\n",
      "180/180 [==============================] - 205s 1s/step - loss: 0.1083 - accuracy: 0.9647 - val_loss: 4.0094 - val_accuracy: 0.5844\n",
      "Epoch 44/200\n",
      "180/180 [==============================] - 205s 1s/step - loss: 0.0964 - accuracy: 0.9680 - val_loss: 2.2174 - val_accuracy: 0.7277\n",
      "Epoch 45/200\n",
      "180/180 [==============================] - 205s 1s/step - loss: 0.1059 - accuracy: 0.9652 - val_loss: 4.3170 - val_accuracy: 0.5998\n",
      "Epoch 46/200\n",
      "180/180 [==============================] - 206s 1s/step - loss: 0.0936 - accuracy: 0.9668 - val_loss: 2.0663 - val_accuracy: 0.7147\n",
      "Epoch 47/200\n",
      "180/180 [==============================] - 207s 1s/step - loss: 0.1089 - accuracy: 0.9633 - val_loss: 1.3337 - val_accuracy: 0.7906\n",
      "Epoch 48/200\n",
      "180/180 [==============================] - 206s 1s/step - loss: 0.0774 - accuracy: 0.9739 - val_loss: 1.7449 - val_accuracy: 0.7281\n",
      "Epoch 49/200\n",
      "180/180 [==============================] - 206s 1s/step - loss: 0.0875 - accuracy: 0.9673 - val_loss: 4.5913 - val_accuracy: 0.5325\n",
      "Epoch 50/200\n",
      "180/180 [==============================] - 207s 1s/step - loss: 0.0848 - accuracy: 0.9697 - val_loss: 2.2935 - val_accuracy: 0.6737\n",
      "Epoch 51/200\n",
      "180/180 [==============================] - 206s 1s/step - loss: 0.0910 - accuracy: 0.9692 - val_loss: 1.5041 - val_accuracy: 0.7541\n",
      "Epoch 52/200\n",
      "180/180 [==============================] - 213s 1s/step - loss: 0.0832 - accuracy: 0.9711 - val_loss: 1.5711 - val_accuracy: 0.7723\n",
      "Epoch 53/200\n",
      "180/180 [==============================] - 212s 1s/step - loss: 0.0947 - accuracy: 0.9670 - val_loss: 1.1994 - val_accuracy: 0.7902\n",
      "Epoch 54/200\n",
      "180/180 [==============================] - 213s 1s/step - loss: 0.0507 - accuracy: 0.9840 - val_loss: 1.6810 - val_accuracy: 0.7597\n",
      "Epoch 55/200\n",
      "180/180 [==============================] - 213s 1s/step - loss: 0.0607 - accuracy: 0.9788 - val_loss: 3.8177 - val_accuracy: 0.5791\n",
      "Epoch 56/200\n",
      "180/180 [==============================] - 211s 1s/step - loss: 0.0877 - accuracy: 0.9722 - val_loss: 2.1460 - val_accuracy: 0.7224\n",
      "Epoch 57/200\n",
      "180/180 [==============================] - 214s 1s/step - loss: 0.0504 - accuracy: 0.9821 - val_loss: 1.4370 - val_accuracy: 0.7926\n",
      "Epoch 58/200\n",
      "180/180 [==============================] - 212s 1s/step - loss: 0.0691 - accuracy: 0.9776 - val_loss: 2.0809 - val_accuracy: 0.7123\n",
      "Epoch 59/200\n",
      "180/180 [==============================] - 213s 1s/step - loss: 0.0712 - accuracy: 0.9760 - val_loss: 2.7627 - val_accuracy: 0.6753\n",
      "Epoch 60/200\n",
      "180/180 [==============================] - 213s 1s/step - loss: 0.0727 - accuracy: 0.9744 - val_loss: 1.3913 - val_accuracy: 0.7833\n",
      "Epoch 61/200\n",
      "180/180 [==============================] - 214s 1s/step - loss: 0.0491 - accuracy: 0.9847 - val_loss: 1.5831 - val_accuracy: 0.7796\n",
      "Epoch 62/200\n",
      "180/180 [==============================] - 215s 1s/step - loss: 0.0643 - accuracy: 0.9767 - val_loss: 1.8422 - val_accuracy: 0.7334\n",
      "Epoch 63/200\n",
      "180/180 [==============================] - 213s 1s/step - loss: 0.0692 - accuracy: 0.9777 - val_loss: 3.2148 - val_accuracy: 0.6595\n",
      "Epoch 64/200\n",
      "180/180 [==============================] - 216s 1s/step - loss: 0.0659 - accuracy: 0.9781 - val_loss: 2.4147 - val_accuracy: 0.7403\n",
      "Epoch 65/200\n",
      "180/180 [==============================] - 214s 1s/step - loss: 0.0538 - accuracy: 0.9812 - val_loss: 1.7399 - val_accuracy: 0.7504\n",
      "Epoch 66/200\n",
      "180/180 [==============================] - 215s 1s/step - loss: 0.0802 - accuracy: 0.9727 - val_loss: 1.6077 - val_accuracy: 0.7764\n",
      "Epoch 67/200\n",
      "180/180 [==============================] - 214s 1s/step - loss: 0.0572 - accuracy: 0.9800 - val_loss: 1.6806 - val_accuracy: 0.7675\n",
      "Epoch 68/200\n",
      "180/180 [==============================] - 216s 1s/step - loss: 0.0531 - accuracy: 0.9810 - val_loss: 2.2905 - val_accuracy: 0.7415\n",
      "Epoch 69/200\n",
      "180/180 [==============================] - 215s 1s/step - loss: 0.0737 - accuracy: 0.9762 - val_loss: 2.1438 - val_accuracy: 0.7423\n",
      "Epoch 70/200\n",
      "180/180 [==============================] - 218s 1s/step - loss: 0.0569 - accuracy: 0.9803 - val_loss: 1.3322 - val_accuracy: 0.8162\n",
      "Epoch 71/200\n",
      "180/180 [==============================] - 212s 1s/step - loss: 0.0643 - accuracy: 0.9793 - val_loss: 2.0905 - val_accuracy: 0.7224\n",
      "Epoch 72/200\n",
      "180/180 [==============================] - 215s 1s/step - loss: 0.0393 - accuracy: 0.9852 - val_loss: 1.4752 - val_accuracy: 0.8060\n",
      "Epoch 73/200\n",
      "180/180 [==============================] - 215s 1s/step - loss: 0.0331 - accuracy: 0.9901 - val_loss: 2.1327 - val_accuracy: 0.7581\n",
      "Epoch 74/200\n",
      "180/180 [==============================] - 216s 1s/step - loss: 0.0486 - accuracy: 0.9833 - val_loss: 1.7366 - val_accuracy: 0.7926\n",
      "Epoch 75/200\n",
      "180/180 [==============================] - 1273s 7s/step - loss: 0.0485 - accuracy: 0.9826 - val_loss: 1.4622 - val_accuracy: 0.8044\n",
      "Epoch 76/200\n",
      "180/180 [==============================] - 1319s 7s/step - loss: 0.0683 - accuracy: 0.9798 - val_loss: 1.9310 - val_accuracy: 0.7589\n",
      "Epoch 77/200\n",
      "180/180 [==============================] - 1832s 10s/step - loss: 0.0574 - accuracy: 0.9809 - val_loss: 3.1090 - val_accuracy: 0.7017\n",
      "Epoch 78/200\n",
      "180/180 [==============================] - 660s 4s/step - loss: 0.0515 - accuracy: 0.9823 - val_loss: 1.2807 - val_accuracy: 0.8028\n",
      "Epoch 79/200\n",
      "180/180 [==============================] - 1300s 7s/step - loss: 0.0444 - accuracy: 0.9864 - val_loss: 1.5602 - val_accuracy: 0.7841\n",
      "Epoch 80/200\n",
      "180/180 [==============================] - 982s 5s/step - loss: 0.0465 - accuracy: 0.9847 - val_loss: 2.3032 - val_accuracy: 0.7200\n",
      "Epoch 81/200\n",
      "180/180 [==============================] - 2763s 15s/step - loss: 0.0458 - accuracy: 0.9833 - val_loss: 1.7440 - val_accuracy: 0.7833\n",
      "Epoch 82/200\n",
      "180/180 [==============================] - 1410s 8s/step - loss: 0.0625 - accuracy: 0.9776 - val_loss: 2.0139 - val_accuracy: 0.7666\n",
      "Epoch 83/200\n",
      "180/180 [==============================] - 1288s 7s/step - loss: 0.0406 - accuracy: 0.9849 - val_loss: 1.5377 - val_accuracy: 0.8011\n",
      "Epoch 84/200\n",
      " 76/180 [===========>..................] - ETA: 17:17 - loss: 0.0522 - accuracy: 0.9798"
     ]
    }
   ],
   "source": [
    "# Compile the model\n",
    "model.compile(optimizer='adam',\n",
    "              loss='categorical_crossentropy',\n",
    "              metrics=['accuracy'])\n",
    "\n",
    "# Define early stopping callback\n",
    "# If the validation accuracy does not improve (increase, since mode='max') for 10 consecutive epochs, the training will stop.\n",
    "early_stopping = EarlyStopping(\n",
    "    monitor='val_accuracy',\n",
    "    patience=20,\n",
    "    mode='max',\n",
    "    restore_best_weights=True,\n",
    "    verbose=1\n",
    ")\n",
    "\n",
    "# Train your model\n",
    "history = model.fit(\n",
    "    train_generator,\n",
    "    steps_per_epoch=train_generator.samples // train_generator.batch_size,\n",
    "    epochs=200,\n",
    "    validation_data=validation_generator,\n",
    "    validation_steps=validation_generator.samples // validation_generator.batch_size,\n",
    "    callbacks=[early_stopping]\n",
    ")"
   ]
  },
  {
   "cell_type": "code",
   "execution_count": null,
   "id": "a87c370b6644576",
   "metadata": {
    "collapsed": false,
    "is_executing": true
   },
   "outputs": [],
   "source": [
    "# Plotting Training Results\n",
    "acc = history.history['accuracy']\n",
    "val_acc = history.history['val_accuracy']\n",
    "loss = history.history['loss']\n",
    "val_loss = history.history['val_loss']\n",
    "\n",
    "plt.figure(figsize=(10, 10))\n",
    "plt.subplot(211)\n",
    "plt.plot(acc, label='Training Accuracy')\n",
    "plt.plot(val_acc, label='Validation Accuracy')\n",
    "plt.title('Training and Validation Accuracy')\n",
    "plt.legend()\n",
    "\n",
    "plt.subplot(212)\n",
    "plt.plot(loss, label='Training Loss')\n",
    "plt.plot(val_loss, label='Validation Loss')\n",
    "plt.title('Training and Validation Loss')\n",
    "plt.legend()\n",
    "\n",
    "plt.show()"
   ]
  },
  {
   "cell_type": "code",
   "execution_count": null,
   "id": "54f5d97ade66985c",
   "metadata": {
    "collapsed": false,
    "is_executing": true
   },
   "outputs": [],
   "source": [
    "model.save('animals')"
   ]
  }
 ],
 "metadata": {
  "kernelspec": {
   "display_name": "Python 3 (ipykernel)",
   "language": "python",
   "name": "python3"
  },
  "language_info": {
   "codemirror_mode": {
    "name": "ipython",
    "version": 3
   },
   "file_extension": ".py",
   "mimetype": "text/x-python",
   "name": "python",
   "nbconvert_exporter": "python",
   "pygments_lexer": "ipython3",
   "version": "3.11.5"
  }
 },
 "nbformat": 4,
 "nbformat_minor": 5
}
