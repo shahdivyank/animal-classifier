{
 "cells": [
  {
   "cell_type": "code",
   "execution_count": 13,
   "id": "initial_id",
   "metadata": {
    "collapsed": true,
    "ExecuteTime": {
     "end_time": "2024-03-15T15:19:39.192725Z",
     "start_time": "2024-03-15T15:19:38.750199Z"
    }
   },
   "outputs": [],
   "source": [
    "from tensorflow.keras.models import load_model\n",
    "from tensorflow.keras.preprocessing import image\n",
    "import numpy as np\n",
    "\n",
    "# Load the trained model\n",
    "loaded_model = load_model('animals')\n",
    "\n",
    "# Classes\n",
    "class_indices = {'Bear': 0, 'Cat': 1, 'Cow': 2, 'Dog': 3, 'Eagle': 4, 'Gorilla': 5}"
   ]
  },
  {
   "cell_type": "code",
   "outputs": [
    {
     "name": "stdout",
     "output_type": "stream",
     "text": [
      "1/1 [==============================] - 0s 61ms/step\n",
      "Predicted class: Bear\n"
     ]
    }
   ],
   "source": [
    "# Function to preprocess and predict the class of a new image\n",
    "def predict_image_class(img_path):\n",
    "\n",
    "    img = image.load_img(img_path, target_size=(150, 150))\n",
    "    img_array = image.img_to_array(img) \n",
    "    img_array = np.expand_dims(img_array, axis=0)\n",
    "    img_array /= 255. \n",
    "\n",
    "    # Predict the class\n",
    "    predictions = loaded_model.predict(img_array)\n",
    "    predicted_class_index = np.argmax(predictions, axis=1)[0]\n",
    "\n",
    "    predicted_class_name = [name for name, index in class_indices.items() if index == predicted_class_index][0]\n",
    "\n",
    "    print(\"Predicted class:\", predicted_class_name)\n",
    "\n",
    "# Update this path to your test image\n",
    "img_path = '/Users/majd/Desktop/Pictures/picture4.jpg'\n",
    "\n",
    "predict_image_class(img_path)"
   ],
   "metadata": {
    "collapsed": false,
    "ExecuteTime": {
     "end_time": "2024-03-15T15:19:39.278538Z",
     "start_time": "2024-03-15T15:19:39.193574Z"
    }
   },
   "id": "2f7775ef9ba0c988",
   "execution_count": 14
  }
 ],
 "metadata": {
  "kernelspec": {
   "display_name": "Python 3",
   "language": "python",
   "name": "python3"
  },
  "language_info": {
   "codemirror_mode": {
    "name": "ipython",
    "version": 2
   },
   "file_extension": ".py",
   "mimetype": "text/x-python",
   "name": "python",
   "nbconvert_exporter": "python",
   "pygments_lexer": "ipython2",
   "version": "2.7.6"
  }
 },
 "nbformat": 4,
 "nbformat_minor": 5
}
