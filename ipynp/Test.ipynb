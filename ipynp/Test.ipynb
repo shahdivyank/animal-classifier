{
 "cells": [
  {
   "cell_type": "code",
   "execution_count": 13,
   "id": "initial_id",
   "metadata": {
    "ExecuteTime": {
     "end_time": "2024-03-15T15:19:39.192725Z",
     "start_time": "2024-03-15T15:19:38.750199Z"
    },
    "collapsed": true
   },
   "outputs": [],
   "source": [
    "from tensorflow.keras.models import load_model\n",
    "from tensorflow.keras.preprocessing import image\n",
    "import numpy as np\n",
    "from tensorflow import keras\n",
    "import cv2\n",
    "\n",
    "# Load the trained model\n",
    "model = load_model('animals.keras')\n",
    "\n",
    "# Classes\n",
    "class_indices = {'Bear': 0, 'Cat': 1, 'Cow': 2, 'Dog': 3, 'Eagle': 4, 'Gorilla': 5}"
   ]
  },
  {
   "cell_type": "code",
   "execution_count": 27,
   "id": "2f7775ef9ba0c988",
   "metadata": {
    "ExecuteTime": {
     "end_time": "2024-03-15T15:19:39.278538Z",
     "start_time": "2024-03-15T15:19:39.193574Z"
    },
    "collapsed": false
   },
   "outputs": [
    {
     "name": "stdout",
     "output_type": "stream",
     "text": [
      "\u001b[1m1/1\u001b[0m \u001b[32m━━━━━━━━━━━━━━━━━━━━\u001b[0m\u001b[37m\u001b[0m \u001b[1m0s\u001b[0m 45ms/step\n",
      "Predicted class: Bear\n"
     ]
    }
   ],
   "source": [
    "# Function to preprocess and predict the class of a new image\n",
    "def predict_image_class(img_path):\n",
    "    img = image.load_img(img_path, target_size=(150, 150)).convert(\"L\")\n",
    "    img_array = image.img_to_array(img) \n",
    "    img_array = np.expand_dims(img_array, axis=0)\n",
    "    img_array /= 255. \n",
    "\n",
    "\n",
    "\n",
    "    # Predict the class\n",
    "    predictions = model.predict(img_array)\n",
    "    predicted_class_index = np.argmax(predictions, axis=1)[0]\n",
    "\n",
    "    predicted_class_name = [name for name, index in class_indices.items() if index == predicted_class_index][0]\n",
    "\n",
    "    print(\"Predicted class:\", predicted_class_name)\n",
    "\n",
    "# Update this path to your test image\n",
    "img_path = '/Users/shahdivyank/Desktop/animal-classifier/api/bear_test.jpeg'\n",
    "\n",
    "predict_image_class(img_path)"
   ]
  },
  {
   "cell_type": "code",
   "execution_count": null,
   "id": "11c69acd",
   "metadata": {},
   "outputs": [],
   "source": []
  }
 ],
 "metadata": {
  "kernelspec": {
   "display_name": "Python 3",
   "language": "python",
   "name": "python3"
  },
  "language_info": {
   "codemirror_mode": {
    "name": "ipython",
    "version": 3
   },
   "file_extension": ".py",
   "mimetype": "text/x-python",
   "name": "python",
   "nbconvert_exporter": "python",
   "pygments_lexer": "ipython3",
   "version": "3.12.1"
  }
 },
 "nbformat": 4,
 "nbformat_minor": 5
}
