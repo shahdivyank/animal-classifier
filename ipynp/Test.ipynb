{
 "cells": [
  {
   "cell_type": "code",
   "execution_count": 7,
   "id": "initial_id",
   "metadata": {
    "collapsed": true,
    "ExecuteTime": {
     "end_time": "2024-03-13T18:59:04.271430Z",
     "start_time": "2024-03-13T18:59:03.822265Z"
    }
   },
   "outputs": [],
   "source": [
    "from tensorflow.keras.models import load_model\n",
    "\n",
    "# Load the model (make sure to specify the correct path and file format)\n",
    "loaded_model = load_model('/Users/majd/DataspellProjects/Final_Project/animals')\n"
   ]
  },
  {
   "cell_type": "code",
   "outputs": [
    {
     "name": "stdout",
     "output_type": "stream",
     "text": [
      "1/1 [==============================] - 0s 157ms/step\n",
      "Predicted class: [2]\n"
     ]
    }
   ],
   "source": [
    "from tensorflow.keras.preprocessing import image\n",
    "import numpy as np\n",
    "\n",
    "# Load the image (without resizing)\n",
    "img_path = '/Users/majd/Desktop/picture.jpg'\n",
    "img = image.load_img(img_path)  # Removed the target_size parameter\n",
    "img_array = image.img_to_array(img)  # Convert the image to a numpy array\n",
    "img_array = np.expand_dims(img_array, axis=0)  # Add a batch dimension\n",
    "img_array /= 255.  # Normalize the image pixels to 0-1\n",
    "\n",
    "# Predict the class\n",
    "predictions = loaded_model.predict(img_array)\n",
    "predicted_class = np.argmax(predictions, axis=1)\n",
    "\n",
    "print(\"Predicted class:\", predicted_class)\n"
   ],
   "metadata": {
    "collapsed": false,
    "ExecuteTime": {
     "end_time": "2024-03-13T18:59:04.461632Z",
     "start_time": "2024-03-13T18:59:04.272325Z"
    }
   },
   "id": "2f7775ef9ba0c988",
   "execution_count": 8
  }
 ],
 "metadata": {
  "kernelspec": {
   "display_name": "Python 3",
   "language": "python",
   "name": "python3"
  },
  "language_info": {
   "codemirror_mode": {
    "name": "ipython",
    "version": 2
   },
   "file_extension": ".py",
   "mimetype": "text/x-python",
   "name": "python",
   "nbconvert_exporter": "python",
   "pygments_lexer": "ipython2",
   "version": "2.7.6"
  }
 },
 "nbformat": 4,
 "nbformat_minor": 5
}
